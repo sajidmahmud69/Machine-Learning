{
  "nbformat": 4,
  "nbformat_minor": 0,
  "metadata": {
    "colab": {
      "name": "Colab_Webcam",
      "provenance": [],
      "toc_visible": true,
      "authorship_tag": "ABX9TyOL+OvoNaKcZRVyxL2O5nq3",
      "include_colab_link": true
    },
    "kernelspec": {
      "name": "python3",
      "display_name": "Python 3"
    },
    "accelerator": "GPU"
  },
  "cells": [
    {
      "cell_type": "markdown",
      "metadata": {
        "id": "view-in-github",
        "colab_type": "text"
      },
      "source": [
        "<a href=\"https://colab.research.google.com/github/sajidmahmud69/Machine-Learning/blob/main/Colab_Webcam.ipynb\" target=\"_parent\"><img src=\"https://colab.research.google.com/assets/colab-badge.svg\" alt=\"Open In Colab\"/></a>"
      ]
    },
    {
      "cell_type": "markdown",
      "metadata": {
        "id": "hPbZORo0SKBV"
      },
      "source": [
        "# Google Colab: Access Webcam for Images and Video\r\n",
        "\r\n",
        "This will use OpenCV's Haar Cascade to do fave detection on our webcam image and video"
      ]
    },
    {
      "cell_type": "code",
      "metadata": {
        "id": "hFYxE9m41n2q"
      },
      "source": [
        "# import dependencies\r\n",
        "from IPython.display import display, Javascript, Image\r\n",
        "from google.colab.output import eval_js\r\n",
        "from base64 import b64decode, b64encode\r\n",
        "import cv2\r\n",
        "import numpy as np\r\n",
        "import PIL\r\n",
        "\r\n",
        "# standard library\r\n",
        "import io\r\n",
        "import html\r\n",
        "import time"
      ],
      "execution_count": null,
      "outputs": []
    },
    {
      "cell_type": "markdown",
      "metadata": {
        "id": "Yqi8LG9i2Oh-"
      },
      "source": [
        "# Helper  Functions\r\n",
        "\r\n",
        "Convert image files from javascript to opencv"
      ]
    },
    {
      "cell_type": "code",
      "metadata": {
        "id": "unkL9dWd3iOw"
      },
      "source": [
        "def js_to_image (js_reply):\r\n",
        "  \"\"\"\r\n",
        "  Params:\r\n",
        "          js_reply: Javascript object containing image from webcam\r\n",
        "  Returns:\r\n",
        "          img: OpenCV BGR image\r\n",
        "  \"\"\"\r\n",
        "\r\n",
        "  # decode base64 image\r\n",
        "  image_bytes = b64decode (js_reply.split(',')[1])\r\n",
        "\r\n",
        "  # convert bytes to numpy array\r\n",
        "  jpg_as_np = np.frombuffer (image_bytes, dtype = uint8)\r\n",
        "\r\n",
        "  # decode numpy array into OpenCV BGR image\r\n",
        "  img = cv2.imdecode (jpg_as_np, flags = 1)\r\n",
        "\r\n",
        "  return img\r\n",
        "\r\n"
      ],
      "execution_count": null,
      "outputs": []
    },
    {
      "cell_type": "code",
      "metadata": {
        "id": "rjo-guFK4bTH"
      },
      "source": [
        "# Function to convert OpenCV Rectangle bounding box image into base64 byte string to be overlayed in video stream\r\n",
        "\r\n",
        "def bbox_to_bytes(bbox_array):\r\n",
        "  \"\"\"\r\n",
        "  Params:\r\n",
        "          bbox_array: Numpy array (pixels) conatining rectangle to overlay on video stream\r\n",
        "  Returns:\r\n",
        "          bytes: Base64 image byte string\r\n",
        "  \"\"\"\r\n",
        "\r\n",
        "  # Convert array into PIL image\r\n",
        "  bbox_PIL = PIL.Image.fromarray(bbox_array, 'RGBA')\r\n",
        "  iobuf = io.BytesIO()\r\n",
        "\r\n",
        "  # format bbox into png for return\r\n",
        "  bbox_PIL.save (iobuf, format = 'png')\r\n",
        "\r\n",
        "  # format return string\r\n",
        "\r\n",
        "  bbox_bytes = 'data:image/png;base64,{}'.format((str(b64encode(iobuf.getvalue()), 'utf-8')))\r\n",
        "\r\n",
        "  return bbox_bytes"
      ],
      "execution_count": null,
      "outputs": []
    },
    {
      "cell_type": "markdown",
      "metadata": {
        "id": "i-uMITYobjcw"
      },
      "source": [
        "# Haar Cascade Classifier\r\n",
        "For this tutorial we will run a simple object detection algorithm called Haar Cascade on our images and video fetched from our webcam.\r\n",
        "OPenCV has a pre trained Haar Cascade face detection model."
      ]
    },
    {
      "cell_type": "code",
      "metadata": {
        "id": "XFHiobgFc47w"
      },
      "source": [
        "face_cascade = cv2.CascadeClassifier (cv2.samples.findFile(cv2.data.haarcascades + 'haarcascade_frontalface_default.xml'))"
      ],
      "execution_count": null,
      "outputs": []
    },
    {
      "cell_type": "markdown",
      "metadata": {
        "id": "opHW6n0pcJS2"
      },
      "source": [
        "# Webcam images\r\n",
        "\r\n",
        "Running Code om images taken from webcam is fairly straight forward. We will utilize code within Google Colab's Code Snippets that has a variety of useful code functions to peform various tasks.\r\n",
        "\r\n",
        "We will be using the code snippet for the **Camera Capture** to utilize the computer's webcam."
      ]
    },
    {
      "cell_type": "code",
      "metadata": {
        "id": "B2u-KisVcwDg"
      },
      "source": [
        "def take_photo(filename='photo.jpg', quality=0.8):\n",
        "  js = Javascript('''\n",
        "    async function takePhoto(quality) {\n",
        "      const div = document.createElement('div');\n",
        "      const capture = document.createElement('button');\n",
        "      capture.textContent = 'Capture';\n",
        "      div.appendChild(capture);\n",
        "\n",
        "      const video = document.createElement('video');\n",
        "      video.style.display = 'block';\n",
        "      const stream = await navigator.mediaDevices.getUserMedia({video: true});\n",
        "\n",
        "      document.body.appendChild(div);\n",
        "      div.appendChild(video);\n",
        "      video.srcObject = stream;\n",
        "      await video.play();\n",
        "\n",
        "      // Resize the output to fit the video element.\n",
        "      google.colab.output.setIframeHeight(document.documentElement.scrollHeight, true);\n",
        "\n",
        "      // Wait for Capture to be clicked.\n",
        "      await new Promise((resolve) => capture.onclick = resolve);\n",
        "\n",
        "      const canvas = document.createElement('canvas');\n",
        "      canvas.width = video.videoWidth;\n",
        "      canvas.height = video.videoHeight;\n",
        "      canvas.getContext('2d').drawImage(video, 0, 0);\n",
        "      stream.getVideoTracks()[0].stop();\n",
        "      div.remove();\n",
        "      return canvas.toDataURL('image/jpeg', quality);\n",
        "    }\n",
        "    ''')\n",
        "  display(js)\n",
        "\n",
        "  # get the photo data\n",
        "  data = eval_js('takePhoto({})'.format(quality))\n",
        "\n",
        "  # get OpenCV image format\n",
        "  img = js_to_image (data)\n",
        "\n",
        "  # grayscale img\n",
        "\n",
        "  gray = cv2.cvtColor (img, cv2.COLOR_RGB2GRAY)\n",
        "  print (gray.shape)\n",
        "\n",
        "  # get face boudning box cooridantes using haar cascade\n",
        "  faces = face_cascade_detectMultiScale (gray)\n",
        "\n",
        "  # draw face bounding box on image\n",
        "\n",
        "  for (x,y,w,h) in faces:\n",
        "    img = cv2.rectangle (img, (x,y), (x+w, y+h), (255, 0, 0), 2)\n",
        "  \n",
        "  # save image\n",
        "  cv2.imwrite (filename, img)\n",
        "  "
      ],
      "execution_count": null,
      "outputs": []
    },
    {
      "cell_type": "code",
      "metadata": {
        "colab": {
          "base_uri": "https://localhost:8080/",
          "height": 34
        },
        "id": "TAYzQkyIcwDi",
        "outputId": "9ba3fbee-e268-4fd0-e7b7-f33d6a022ccc"
      },
      "source": [
        "\n",
        "try:\n",
        "  filename = take_photo('photo_jpg')\n",
        "  print('Saved to {}'.format(filename))\n",
        "  \n",
        "  # Show the image which was just taken.\n",
        "  display(Image(filename))\n",
        "except Exception as err:\n",
        "  # Errors will be thrown if the user does not have a webcam or if they do not\n",
        "  # grant the page permission to access it.\n",
        "  print(str(err))"
      ],
      "execution_count": null,
      "outputs": [
        {
          "output_type": "display_data",
          "data": {
            "application/javascript": [
              "\n",
              "    async function takePhoto(quality) {\n",
              "      const div = document.createElement('div');\n",
              "      const capture = document.createElement('button');\n",
              "      capture.textContent = 'Capture';\n",
              "      div.appendChild(capture);\n",
              "\n",
              "      const video = document.createElement('video');\n",
              "      video.style.display = 'block';\n",
              "      const stream = await navigator.mediaDevices.getUserMedia({video: true});\n",
              "\n",
              "      document.body.appendChild(div);\n",
              "      div.appendChild(video);\n",
              "      video.srcObject = stream;\n",
              "      await video.play();\n",
              "\n",
              "      // Resize the output to fit the video element.\n",
              "      google.colab.output.setIframeHeight(document.documentElement.scrollHeight, true);\n",
              "\n",
              "      // Wait for Capture to be clicked.\n",
              "      await new Promise((resolve) => capture.onclick = resolve);\n",
              "\n",
              "      const canvas = document.createElement('canvas');\n",
              "      canvas.width = video.videoWidth;\n",
              "      canvas.height = video.videoHeight;\n",
              "      canvas.getContext('2d').drawImage(video, 0, 0);\n",
              "      stream.getVideoTracks()[0].stop();\n",
              "      div.remove();\n",
              "      return canvas.toDataURL('image/jpeg', quality);\n",
              "    }\n",
              "    "
            ],
            "text/plain": [
              "<IPython.core.display.Javascript object>"
            ]
          },
          "metadata": {
            "tags": []
          }
        },
        {
          "output_type": "stream",
          "text": [
            "name 'uint8' is not defined\n"
          ],
          "name": "stdout"
        }
      ]
    },
    {
      "cell_type": "code",
      "metadata": {
        "id": "SGPIwiU0eUzU"
      },
      "source": [
        ""
      ],
      "execution_count": null,
      "outputs": []
    }
  ]
}